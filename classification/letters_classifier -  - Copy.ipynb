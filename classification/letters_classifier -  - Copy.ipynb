{
 "cells": [
  {
   "cell_type": "code",
   "execution_count": 143,
   "metadata": {},
   "outputs": [],
   "source": [
    "from sklearn.neighbors import KNeighborsClassifier\n",
    "from sklearn.neural_network import MLPClassifier  # MLP is an NN\n",
    "from sklearn.model_selection import train_test_split,GridSearchCV\n",
    "from sklearn import svm\n",
    "from skimage.feature import hog\n",
    "import numpy as np\n",
    "import argparse\n",
    "import cv2\n",
    "import os\n",
    "import matplotlib.pyplot as plt\n",
    "from sklearn.svm import SVC\n",
    "from sklearn.preprocessing import StandardScaler\n",
    "from sklearn.metrics import accuracy_score\n",
    "import skimage.io as io\n",
    "\n"
   ]
  },
  {
   "cell_type": "code",
   "execution_count": 144,
   "metadata": {},
   "outputs": [],
   "source": [
    "path_to_b_dataset = r'letters_data_set/B'\n",
    "path_to_e_dataset = r'letters_data_set/E'\n",
    "path_to_m_dataset = r'letters_data_set/M'\n",
    "path_to_s_dataset = r'letters_data_set/S'\n",
    "path_to_y_dataset = r'letters_data_set/Y'\n",
    "SVM = SVC(verbose=True)\n",
    "random_seed=20\n",
    "best_svm_model = None"
   ]
  },
  {
   "cell_type": "code",
   "execution_count": 153,
   "metadata": {},
   "outputs": [],
   "source": [
    "def extract_hog_features(img): \n",
    "    img = cv2.resize(img, (64, 64))\n",
    "    win_size = (32, 32)\n",
    "    cell_size = (4, 4)\n",
    "    block_size_in_cells = (2, 2)\n",
    "    \n",
    "    block_size = (block_size_in_cells[1] * cell_size[1], block_size_in_cells[0] * cell_size[0])\n",
    "    block_stride = (cell_size[1], cell_size[0])\n",
    "    nbins = 12 \n",
    "\n",
    "    fd, hog_image = hog(\n",
    "        img,\n",
    "        # pixels_per_cell=(2, 2),\n",
    "        pixels_per_cell=(4, 4),\n",
    "        cells_per_block=(4, 4),\n",
    "        # cells_per_block=(2, 2),\n",
    "        visualize=True,\n",
    "        # channel_axis=2\n",
    "    )\n",
    "    return fd,hog_image\n",
    "    # hog = cv2.HOGDescriptor(win_size, block_size, block_stride, cell_size, nbins)\n",
    "    # h = hog.compute(img)\n",
    "    # return h.flatten()"
   ]
  },
  {
   "cell_type": "code",
   "execution_count": 154,
   "metadata": {},
   "outputs": [
    {
     "data": {
      "text/plain": [
       "<matplotlib.image.AxesImage at 0x2a399cebed0>"
      ]
     },
     "execution_count": 154,
     "metadata": {},
     "output_type": "execute_result"
    },
    {
     "data": {
      "image/png": "[encoded data removed]",
      "text/plain": [
       "<Figure size 640x480 with 2 Axes>"
      ]
     },
     "metadata": {},
     "output_type": "display_data"
    }
   ],
   "source": [
    "test=io.imread(\"../classification/letters_data_set/B/test7.png\")\n",
    "fd,hog_image=extract_hog_features(test)\n",
    "io.imshow(hog_image,cmap='gray')    "
   ]
  },
  {
   "cell_type": "code",
   "execution_count": 147,
   "metadata": {},
   "outputs": [],
   "source": [
    "def load_dataset():\n",
    "    features = []\n",
    "    labels = []\n",
    "    img_filenames_b = os.listdir(path_to_b_dataset)\n",
    "    img_filenames_e = os.listdir(path_to_e_dataset)\n",
    "    img_filenames_m = os.listdir(path_to_m_dataset)\n",
    "    img_filenames_s = os.listdir(path_to_s_dataset)\n",
    "    img_filenames_y = os.listdir(path_to_y_dataset)\n",
    "\n",
    "\n",
    "    for i, fn in enumerate(img_filenames_b):\n",
    "        if fn.split('.')[-1] != 'png' and fn.split('.')[-1]!='jpg':\n",
    "            continue\n",
    "\n",
    "        label = 'B'\n",
    "        labels.append(label)\n",
    "\n",
    "        path = os.path.join(path_to_b_dataset, fn)\n",
    "        img = io.imread(path)\n",
    "        fd, _= extract_hog_features(img)\n",
    "        features.append(fd)\n",
    "        \n",
    "        # show an update every 10 images\n",
    "        if i > 0 and i % 10 == 0:\n",
    "            print(\"[INFO] processed {}/{}\".format(i, len(img_filenames_b)))\n",
    "    print(\"B dataset processing done\")\n",
    "    for i, fn in enumerate(img_filenames_e):\n",
    "        if fn.split('.')[-1] != 'png' and fn.split('.')[-1]!='jpg':\n",
    "            continue\n",
    "\n",
    "        label = 'E'\n",
    "        labels.append(label)\n",
    "\n",
    "        path = os.path.join(path_to_e_dataset, fn)\n",
    "        img = io.imread(path)\n",
    "        fd, _= extract_hog_features(img)\n",
    "        features.append(fd)\n",
    "        \n",
    "        # show an update every 10 images\n",
    "        if i > 0 and i % 10 == 0:\n",
    "            print(\"[INFO] processed {}/{}\".format(i, len(img_filenames_e)))     \n",
    "    print(\"E dataset processing done\")   \n",
    "    \n",
    "    for i, fn in enumerate(img_filenames_m):\n",
    "        if fn.split('.')[-1] != 'png' and fn.split('.')[-1]!='jpg':\n",
    "            continue\n",
    "\n",
    "        label = 'M'\n",
    "        labels.append(label)\n",
    "\n",
    "        path = os.path.join(path_to_m_dataset, fn)\n",
    "        img = io.imread(path)\n",
    "        fd, _= extract_hog_features(img)\n",
    "        features.append(fd)\n",
    "        \n",
    "        # show an update every 10 images\n",
    "        if i > 0 and i % 10 == 0:\n",
    "            print(\"[INFO] processed {}/{}\".format(i, len(img_filenames_m)))     \n",
    "    print(\"M dataset processing done\")   \n",
    "    \n",
    "    for i, fn in enumerate(img_filenames_s):\n",
    "        if fn.split('.')[-1] != 'png' and fn.split('.')[-1]!='jpg':\n",
    "            continue\n",
    "\n",
    "        label = 'S'\n",
    "        labels.append(label)\n",
    "\n",
    "        path = os.path.join(path_to_s_dataset, fn)\n",
    "        img = io.imread(path)\n",
    "        fd, _= extract_hog_features(img)\n",
    "        features.append(fd)\n",
    "        \n",
    "        # show an update every 10 images\n",
    "        if i > 0 and i % 10 == 0:\n",
    "            print(\"[INFO] processed {}/{}\".format(i, len(img_filenames_s)))     \n",
    "    print(\"S dataset processing done\")   \n",
    "    \n",
    "    for i, fn in enumerate(img_filenames_y):\n",
    "        if fn.split('.')[-1] != 'png' and fn.split('.')[-1]!='jpg':\n",
    "            continue\n",
    "\n",
    "        label = 'Y'\n",
    "        labels.append(label)\n",
    "\n",
    "        path = os.path.join(path_to_y_dataset, fn)\n",
    "        img = io.imread(path)\n",
    "        fd, _= extract_hog_features(img)\n",
    "        features.append(fd)\n",
    "        \n",
    "        # show an update every 10 images\n",
    "        if i > 0 and i % 10 == 0:\n",
    "            print(\"[INFO] processed {}/{}\".format(i, len(img_filenames_y)))     \n",
    "    print(\"Y dataset processing done\")   \n",
    "    \n",
    "\n",
    "    return features, labels        "
   ]
  },
  {
   "cell_type": "code",
   "execution_count": 155,
   "metadata": {},
   "outputs": [],
   "source": [
    "def train():\n",
    "  \n",
    "    # Load dataset with extracted features\n",
    "    print('Loading dataset. This will take time ...')\n",
    "    features, labels = load_dataset()\n",
    "    X_train, X_test, y_train, y_test = train_test_split(features, labels, test_size=0.2, random_state=42)\n",
    "\n",
    "    print('Finished loading dataset.')\n",
    "    scaler = StandardScaler()\n",
    "    X_train_scaled = scaler.fit_transform(X_train)\n",
    "    X_test_scaled = scaler.transform(X_test)\n",
    "\n",
    "    param_grid = {\n",
    "   #  'C': [0.001, 0.01, 0.1, 1, 10, 100],\n",
    "    'kernel': ['rbf'],\n",
    "   #  'kernel': ['rbf', 'sigmoid'],\n",
    "   #  'degree': [1, 2, 3],\n",
    "   #  'gamma': ['scale', 'auto', 0.1, 1, 10]\n",
    "    }\n",
    "    grid_search = GridSearchCV(SVM, param_grid, cv=5, scoring='accuracy')\n",
    "    grid_search.fit(X_train_scaled, y_train)\n",
    "    best_params = grid_search.best_params_\n",
    "    print(\"Best Parameters:\", best_params)\n",
    "\n",
    "    \n",
    " # Train the SVM model with the best parameters\n",
    "    best_svm_model = SVC(verbose=True,probability=True,**best_params)\n",
    "    best_svm_model.fit(X_train_scaled, y_train)\n",
    "\n",
    "   # Make predictions on the test set\n",
    "    y_pred = best_svm_model.predict(X_test_scaled)\n",
    "\n",
    "    # Evaluate the accuracy of the model\n",
    "    accuracy = accuracy_score(y_test, y_pred)\n",
    "    print(f'Accuracy: {accuracy}')\n",
    "    return best_svm_model"
   ]
  },
  {
   "cell_type": "code",
   "execution_count": 156,
   "metadata": {},
   "outputs": [
    {
     "name": "stdout",
     "output_type": "stream",
     "text": [
      "Loading dataset. This will take time ...\n",
      "[INFO] processed 10/149\n",
      "[INFO] processed 20/149\n",
      "[INFO] processed 30/149\n",
      "[INFO] processed 40/149\n",
      "[INFO] processed 50/149\n",
      "[INFO] processed 60/149\n",
      "[INFO] processed 70/149\n",
      "[INFO] processed 80/149\n",
      "[INFO] processed 90/149\n",
      "[INFO] processed 100/149\n",
      "[INFO] processed 110/149\n",
      "[INFO] processed 120/149\n",
      "[INFO] processed 130/149\n",
      "[INFO] processed 140/149\n",
      "B dataset processing done\n",
      "[INFO] processed 10/146\n"
     ]
    },
    {
     "ename": "KeyboardInterrupt",
     "evalue": "",
     "output_type": "error",
     "traceback": [
      "\u001b[1;31m---------------------------------------------------------------------------\u001b[0m",
      "\u001b[1;31mKeyboardInterrupt\u001b[0m                         Traceback (most recent call last)",
      "Cell \u001b[1;32mIn[156], line 1\u001b[0m\n\u001b[1;32m----> 1\u001b[0m best_svm_model\u001b[38;5;241m=\u001b[39m\u001b[43mtrain\u001b[49m\u001b[43m(\u001b[49m\u001b[43m)\u001b[49m\n",
      "Cell \u001b[1;32mIn[155], line 5\u001b[0m, in \u001b[0;36mtrain\u001b[1;34m()\u001b[0m\n\u001b[0;32m      1\u001b[0m \u001b[38;5;28;01mdef\u001b[39;00m \u001b[38;5;21mtrain\u001b[39m():\n\u001b[0;32m      2\u001b[0m   \n\u001b[0;32m      3\u001b[0m     \u001b[38;5;66;03m# Load dataset with extracted features\u001b[39;00m\n\u001b[0;32m      4\u001b[0m     \u001b[38;5;28mprint\u001b[39m(\u001b[38;5;124m'\u001b[39m\u001b[38;5;124mLoading dataset. This will take time ...\u001b[39m\u001b[38;5;124m'\u001b[39m)\n\u001b[1;32m----> 5\u001b[0m     features, labels \u001b[38;5;241m=\u001b[39m \u001b[43mload_dataset\u001b[49m\u001b[43m(\u001b[49m\u001b[43m)\u001b[49m\n\u001b[0;32m      6\u001b[0m     X_train, X_test, y_train, y_test \u001b[38;5;241m=\u001b[39m train_test_split(features, labels, test_size\u001b[38;5;241m=\u001b[39m\u001b[38;5;241m0.2\u001b[39m, random_state\u001b[38;5;241m=\u001b[39m\u001b[38;5;241m42\u001b[39m)\n\u001b[0;32m      8\u001b[0m     \u001b[38;5;28mprint\u001b[39m(\u001b[38;5;124m'\u001b[39m\u001b[38;5;124mFinished loading dataset.\u001b[39m\u001b[38;5;124m'\u001b[39m)\n",
      "Cell \u001b[1;32mIn[147], line 36\u001b[0m, in \u001b[0;36mload_dataset\u001b[1;34m()\u001b[0m\n\u001b[0;32m     34\u001b[0m path \u001b[38;5;241m=\u001b[39m os\u001b[38;5;241m.\u001b[39mpath\u001b[38;5;241m.\u001b[39mjoin(path_to_e_dataset, fn)\n\u001b[0;32m     35\u001b[0m img \u001b[38;5;241m=\u001b[39m io\u001b[38;5;241m.\u001b[39mimread(path)\n\u001b[1;32m---> 36\u001b[0m fd, _\u001b[38;5;241m=\u001b[39m \u001b[43mextract_hog_features\u001b[49m\u001b[43m(\u001b[49m\u001b[43mimg\u001b[49m\u001b[43m)\u001b[49m\n\u001b[0;32m     37\u001b[0m features\u001b[38;5;241m.\u001b[39mappend(fd)\n\u001b[0;32m     39\u001b[0m \u001b[38;5;66;03m# show an update every 10 images\u001b[39;00m\n",
      "Cell \u001b[1;32mIn[153], line 11\u001b[0m, in \u001b[0;36mextract_hog_features\u001b[1;34m(img)\u001b[0m\n\u001b[0;32m      8\u001b[0m block_stride \u001b[38;5;241m=\u001b[39m (cell_size[\u001b[38;5;241m1\u001b[39m], cell_size[\u001b[38;5;241m0\u001b[39m])\n\u001b[0;32m      9\u001b[0m nbins \u001b[38;5;241m=\u001b[39m \u001b[38;5;241m12\u001b[39m \n\u001b[1;32m---> 11\u001b[0m fd, hog_image \u001b[38;5;241m=\u001b[39m \u001b[43mhog\u001b[49m\u001b[43m(\u001b[49m\n\u001b[0;32m     12\u001b[0m \u001b[43m    \u001b[49m\u001b[43mimg\u001b[49m\u001b[43m,\u001b[49m\n\u001b[0;32m     13\u001b[0m \u001b[43m    \u001b[49m\u001b[38;5;66;43;03m# pixels_per_cell=(2, 2),\u001b[39;49;00m\n\u001b[0;32m     14\u001b[0m \u001b[43m    \u001b[49m\u001b[43mpixels_per_cell\u001b[49m\u001b[38;5;241;43m=\u001b[39;49m\u001b[43m(\u001b[49m\u001b[38;5;241;43m4\u001b[39;49m\u001b[43m,\u001b[49m\u001b[43m \u001b[49m\u001b[38;5;241;43m4\u001b[39;49m\u001b[43m)\u001b[49m\u001b[43m,\u001b[49m\n\u001b[0;32m     15\u001b[0m \u001b[43m    \u001b[49m\u001b[43mcells_per_block\u001b[49m\u001b[38;5;241;43m=\u001b[39;49m\u001b[43m(\u001b[49m\u001b[38;5;241;43m4\u001b[39;49m\u001b[43m,\u001b[49m\u001b[43m \u001b[49m\u001b[38;5;241;43m4\u001b[39;49m\u001b[43m)\u001b[49m\u001b[43m,\u001b[49m\n\u001b[0;32m     16\u001b[0m \u001b[43m    \u001b[49m\u001b[38;5;66;43;03m# cells_per_block=(2, 2),\u001b[39;49;00m\n\u001b[0;32m     17\u001b[0m \u001b[43m    \u001b[49m\u001b[43mvisualize\u001b[49m\u001b[38;5;241;43m=\u001b[39;49m\u001b[38;5;28;43;01mTrue\u001b[39;49;00m\u001b[43m,\u001b[49m\n\u001b[0;32m     18\u001b[0m \u001b[43m    \u001b[49m\u001b[38;5;66;43;03m# channel_axis=2\u001b[39;49;00m\n\u001b[0;32m     19\u001b[0m \u001b[43m\u001b[49m\u001b[43m)\u001b[49m\n\u001b[0;32m     20\u001b[0m \u001b[38;5;28;01mreturn\u001b[39;00m fd,hog_image\n",
      "File \u001b[1;32mc:\\Users\\EGYPT\\AppData\\Local\\Programs\\Python\\Python311\\Lib\\site-packages\\skimage\\_shared\\utils.py:326\u001b[0m, in \u001b[0;36mchannel_as_last_axis.__call__.<locals>.fixed_func\u001b[1;34m(*args, **kwargs)\u001b[0m\n\u001b[0;32m    323\u001b[0m channel_axis \u001b[38;5;241m=\u001b[39m kwargs\u001b[38;5;241m.\u001b[39mget(\u001b[38;5;124m'\u001b[39m\u001b[38;5;124mchannel_axis\u001b[39m\u001b[38;5;124m'\u001b[39m, \u001b[38;5;28;01mNone\u001b[39;00m)\n\u001b[0;32m    325\u001b[0m \u001b[38;5;28;01mif\u001b[39;00m channel_axis \u001b[38;5;129;01mis\u001b[39;00m \u001b[38;5;28;01mNone\u001b[39;00m:\n\u001b[1;32m--> 326\u001b[0m     \u001b[38;5;28;01mreturn\u001b[39;00m \u001b[43mfunc\u001b[49m\u001b[43m(\u001b[49m\u001b[38;5;241;43m*\u001b[39;49m\u001b[43margs\u001b[49m\u001b[43m,\u001b[49m\u001b[43m \u001b[49m\u001b[38;5;241;43m*\u001b[39;49m\u001b[38;5;241;43m*\u001b[39;49m\u001b[43mkwargs\u001b[49m\u001b[43m)\u001b[49m\n\u001b[0;32m    328\u001b[0m \u001b[38;5;66;03m# TODO: convert scalars to a tuple in anticipation of eventually\u001b[39;00m\n\u001b[0;32m    329\u001b[0m \u001b[38;5;66;03m#       supporting a tuple of channel axes. Right now, only an\u001b[39;00m\n\u001b[0;32m    330\u001b[0m \u001b[38;5;66;03m#       integer or a single-element tuple is supported, though.\u001b[39;00m\n\u001b[0;32m    331\u001b[0m \u001b[38;5;28;01mif\u001b[39;00m np\u001b[38;5;241m.\u001b[39misscalar(channel_axis):\n",
      "File \u001b[1;32mc:\\Users\\EGYPT\\AppData\\Local\\Programs\\Python\\Python311\\Lib\\site-packages\\skimage\\feature\\_hog.py:256\u001b[0m, in \u001b[0;36mhog\u001b[1;34m(image, orientations, pixels_per_cell, cells_per_block, block_norm, visualize, transform_sqrt, feature_vector, channel_axis)\u001b[0m\n\u001b[0;32m    253\u001b[0m             \u001b[38;5;28;01mfor\u001b[39;00m o, dr, dc \u001b[38;5;129;01min\u001b[39;00m \u001b[38;5;28mzip\u001b[39m(orientations_arr, dr_arr, dc_arr):\n\u001b[0;32m    254\u001b[0m                 centre \u001b[38;5;241m=\u001b[39m \u001b[38;5;28mtuple\u001b[39m([r \u001b[38;5;241m*\u001b[39m c_row \u001b[38;5;241m+\u001b[39m c_row \u001b[38;5;241m/\u001b[39m\u001b[38;5;241m/\u001b[39m \u001b[38;5;241m2\u001b[39m,\n\u001b[0;32m    255\u001b[0m                                 c \u001b[38;5;241m*\u001b[39m c_col \u001b[38;5;241m+\u001b[39m c_col \u001b[38;5;241m/\u001b[39m\u001b[38;5;241m/\u001b[39m \u001b[38;5;241m2\u001b[39m])\n\u001b[1;32m--> 256\u001b[0m                 rr, cc \u001b[38;5;241m=\u001b[39m \u001b[43mdraw\u001b[49m\u001b[38;5;241;43m.\u001b[39;49m\u001b[43mline\u001b[49m\u001b[43m(\u001b[49m\u001b[38;5;28;43mint\u001b[39;49m\u001b[43m(\u001b[49m\u001b[43mcentre\u001b[49m\u001b[43m[\u001b[49m\u001b[38;5;241;43m0\u001b[39;49m\u001b[43m]\u001b[49m\u001b[43m \u001b[49m\u001b[38;5;241;43m-\u001b[39;49m\u001b[43m \u001b[49m\u001b[43mdc\u001b[49m\u001b[43m)\u001b[49m\u001b[43m,\u001b[49m\n\u001b[0;32m    257\u001b[0m \u001b[43m                                   \u001b[49m\u001b[38;5;28;43mint\u001b[39;49m\u001b[43m(\u001b[49m\u001b[43mcentre\u001b[49m\u001b[43m[\u001b[49m\u001b[38;5;241;43m1\u001b[39;49m\u001b[43m]\u001b[49m\u001b[43m \u001b[49m\u001b[38;5;241;43m+\u001b[39;49m\u001b[43m \u001b[49m\u001b[43mdr\u001b[49m\u001b[43m)\u001b[49m\u001b[43m,\u001b[49m\n\u001b[0;32m    258\u001b[0m \u001b[43m                                   \u001b[49m\u001b[38;5;28;43mint\u001b[39;49m\u001b[43m(\u001b[49m\u001b[43mcentre\u001b[49m\u001b[43m[\u001b[49m\u001b[38;5;241;43m0\u001b[39;49m\u001b[43m]\u001b[49m\u001b[43m \u001b[49m\u001b[38;5;241;43m+\u001b[39;49m\u001b[43m \u001b[49m\u001b[43mdc\u001b[49m\u001b[43m)\u001b[49m\u001b[43m,\u001b[49m\n\u001b[0;32m    259\u001b[0m \u001b[43m                                   \u001b[49m\u001b[38;5;28;43mint\u001b[39;49m\u001b[43m(\u001b[49m\u001b[43mcentre\u001b[49m\u001b[43m[\u001b[49m\u001b[38;5;241;43m1\u001b[39;49m\u001b[43m]\u001b[49m\u001b[43m \u001b[49m\u001b[38;5;241;43m-\u001b[39;49m\u001b[43m \u001b[49m\u001b[43mdr\u001b[49m\u001b[43m)\u001b[49m\u001b[43m)\u001b[49m\n\u001b[0;32m    260\u001b[0m                 hog_image[rr, cc] \u001b[38;5;241m+\u001b[39m\u001b[38;5;241m=\u001b[39m orientation_histogram[r, c, o]\n\u001b[0;32m    262\u001b[0m \u001b[38;5;250m\u001b[39m\u001b[38;5;124;03m\"\"\"\u001b[39;00m\n\u001b[0;32m    263\u001b[0m \u001b[38;5;124;03mThe fourth stage computes normalization, which takes local groups of\u001b[39;00m\n\u001b[0;32m    264\u001b[0m \u001b[38;5;124;03mcells and contrast normalizes their overall responses before passing\u001b[39;00m\n\u001b[1;32m   (...)\u001b[0m\n\u001b[0;32m    274\u001b[0m \u001b[38;5;124;03mGradient (HOG) descriptors.\u001b[39;00m\n\u001b[0;32m    275\u001b[0m \u001b[38;5;124;03m\"\"\"\u001b[39;00m\n",
      "File \u001b[1;32mc:\\Users\\EGYPT\\AppData\\Local\\Programs\\Python\\Python311\\Lib\\site-packages\\skimage\\draw\\draw.py:392\u001b[0m, in \u001b[0;36mline\u001b[1;34m(r0, c0, r1, c1)\u001b[0m\n\u001b[0;32m    353\u001b[0m \u001b[38;5;28;01mdef\u001b[39;00m \u001b[38;5;21mline\u001b[39m(r0, c0, r1, c1):\n\u001b[0;32m    354\u001b[0m \u001b[38;5;250m    \u001b[39m\u001b[38;5;124;03m\"\"\"Generate line pixel coordinates.\u001b[39;00m\n\u001b[0;32m    355\u001b[0m \n\u001b[0;32m    356\u001b[0m \u001b[38;5;124;03m    Parameters\u001b[39;00m\n\u001b[1;32m   (...)\u001b[0m\n\u001b[0;32m    390\u001b[0m \u001b[38;5;124;03m           [0, 0, 0, 0, 0, 0, 0, 0, 0, 0]], dtype=uint8)\u001b[39;00m\n\u001b[0;32m    391\u001b[0m \u001b[38;5;124;03m    \"\"\"\u001b[39;00m\n\u001b[1;32m--> 392\u001b[0m     \u001b[38;5;28;01mreturn\u001b[39;00m \u001b[43m_line\u001b[49m\u001b[43m(\u001b[49m\u001b[43mr0\u001b[49m\u001b[43m,\u001b[49m\u001b[43m \u001b[49m\u001b[43mc0\u001b[49m\u001b[43m,\u001b[49m\u001b[43m \u001b[49m\u001b[43mr1\u001b[49m\u001b[43m,\u001b[49m\u001b[43m \u001b[49m\u001b[43mc1\u001b[49m\u001b[43m)\u001b[49m\n",
      "\u001b[1;31mKeyboardInterrupt\u001b[0m: "
     ]
    }
   ],
   "source": [
    "best_svm_model=train()"
   ]
  },
  {
   "cell_type": "code",
   "execution_count": null,
   "metadata": {},
   "outputs": [],
   "source": [
    "model_pkl_file = \"letters_model.pkl\"  \n",
    "\n",
    "with open(model_pkl_file, 'wb') as file:  \n",
    "    pickle.dump(KNN, file)"
   ]
  },
  {
   "cell_type": "code",
   "execution_count": 150,
   "metadata": {},
   "outputs": [
    {
     "ename": "AttributeError",
     "evalue": "'NoneType' object has no attribute 'predict'",
     "output_type": "error",
     "traceback": [
      "\u001b[1;31m---------------------------------------------------------------------------\u001b[0m",
      "\u001b[1;31mAttributeError\u001b[0m                            Traceback (most recent call last)",
      "Cell \u001b[1;32mIn[150], line 16\u001b[0m\n\u001b[0;32m     14\u001b[0m image\u001b[38;5;241m=\u001b[39mcv2\u001b[38;5;241m.\u001b[39mresize(image,(\u001b[38;5;241m64\u001b[39m,\u001b[38;5;241m64\u001b[39m))\n\u001b[0;32m     15\u001b[0m features \u001b[38;5;241m=\u001b[39m extract_hog_features(image)\n\u001b[1;32m---> 16\u001b[0m pred \u001b[38;5;241m=\u001b[39m \u001b[43mbest_svm_model\u001b[49m\u001b[38;5;241;43m.\u001b[39;49m\u001b[43mpredict\u001b[49m([features])\n\u001b[0;32m     17\u001b[0m result \u001b[38;5;241m=\u001b[39m \u001b[38;5;124mf\u001b[39m\u001b[38;5;124m\"\u001b[39m\u001b[38;5;132;01m{\u001b[39;00mfn\u001b[38;5;132;01m}\u001b[39;00m\u001b[38;5;124m \u001b[39m\u001b[38;5;132;01m{\u001b[39;00mletters[np\u001b[38;5;241m.\u001b[39margmax(pred)]\u001b[38;5;132;01m}\u001b[39;00m\u001b[38;5;130;01m\\n\u001b[39;00m\u001b[38;5;124m\"\u001b[39m\n\u001b[0;32m     18\u001b[0m \u001b[38;5;28mprint\u001b[39m(pred)\n",
      "\u001b[1;31mAttributeError\u001b[0m: 'NoneType' object has no attribute 'predict'"
     ]
    }
   ],
   "source": [
    "letters=['B','E','M','S','Y']\n",
    "def natural_sort_key(s):\n",
    "    \"\"\"Key function for natural sorting.\"\"\"\n",
    "    import re\n",
    "    return [int(text) if text.isdigit() else text.lower() for text in re.split(r'(\\d+)', s)]\n",
    "output_file_path = 'results.txt'\n",
    "path_to_testset = r'testset3'\n",
    "filenames = sorted(os.listdir(path_to_testset), key=natural_sort_key)\n",
    "with open(output_file_path, 'w') as output_file:\n",
    "    for i, fn in enumerate(filenames):\n",
    "        if fn.split('.')[-1] != 'png' and fn.split('.')[-1]!='jpg':\n",
    "            continue\n",
    "        image=io.imread(os.path.join(path_to_testset, fn))\n",
    "        image=cv2.resize(image,(64,64))\n",
    "        features = extract_hog_features(image)\n",
    "        pred = best_svm_model.predict([features])\n",
    "        result = f\"{fn} {letters[np.argmax(pred)]}\\n\"\n",
    "        print(pred)\n",
    "        print(result)  \n",
    "        output_file.write(result)\n",
    "    \n",
    "# features=extract_hog_features(cv2.imread('test.png'))\n",
    "# pred=SVM.predict_proba([features])\n",
    "# print(np.argmax(pred))"
   ]
  },
  {
   "cell_type": "code",
   "execution_count": null,
   "metadata": {},
   "outputs": [],
   "source": []
  }
 ],
 "metadata": {
  "kernelspec": {
   "display_name": "Python 3",
   "language": "python",
   "name": "python3"
  },
  "language_info": {
   "codemirror_mode": {
    "name": "ipython",
    "version": 3
   },
   "file_extension": ".py",
   "mimetype": "text/x-python",
   "name": "python",
   "nbconvert_exporter": "python",
   "pygments_lexer": "ipython3",
   "version": "3.11.2"
  }
 },
 "nbformat": 4,
 "nbformat_minor": 2
}
